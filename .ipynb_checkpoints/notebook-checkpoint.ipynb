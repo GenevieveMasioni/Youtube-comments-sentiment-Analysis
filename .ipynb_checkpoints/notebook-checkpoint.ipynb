{
 "cells": [
  {
   "cell_type": "code",
   "execution_count": 2,
   "id": "4076155a-391b-41ea-aa31-397ed678434b",
   "metadata": {},
   "outputs": [
    {
     "name": "stdout",
     "output_type": "stream",
     "text": [
      "Defaulting to user installation because normal site-packages is not writeable\n",
      "Requirement already satisfied: pip in /Users/genevievemasioni/Library/Python/3.8/lib/python/site-packages (21.3.1)\n",
      "Defaulting to user installation because normal site-packages is not writeable\n",
      "Requirement already satisfied: tensorflow in /Users/genevievemasioni/Library/Python/3.8/lib/python/site-packages (2.7.0)\n",
      "Requirement already satisfied: protobuf>=3.9.2 in /Users/genevievemasioni/Library/Python/3.8/lib/python/site-packages (from tensorflow) (3.19.1)\n",
      "Requirement already satisfied: numpy>=1.14.5 in /Users/genevievemasioni/Library/Python/3.8/lib/python/site-packages (from tensorflow) (1.21.4)\n",
      "Requirement already satisfied: astunparse>=1.6.0 in /Users/genevievemasioni/Library/Python/3.8/lib/python/site-packages (from tensorflow) (1.6.3)\n",
      "Requirement already satisfied: typing-extensions>=3.6.6 in /Users/genevievemasioni/Library/Python/3.8/lib/python/site-packages (from tensorflow) (4.0.1)\n",
      "Requirement already satisfied: six>=1.12.0 in /Applications/Xcode.app/Contents/Developer/Library/Frameworks/Python3.framework/Versions/3.8/lib/python3.8/site-packages (from tensorflow) (1.15.0)\n",
      "Requirement already satisfied: termcolor>=1.1.0 in /Users/genevievemasioni/Library/Python/3.8/lib/python/site-packages (from tensorflow) (1.1.0)\n",
      "Requirement already satisfied: tensorflow-io-gcs-filesystem>=0.21.0 in /Users/genevievemasioni/Library/Python/3.8/lib/python/site-packages (from tensorflow) (0.23.1)\n",
      "Requirement already satisfied: tensorboard~=2.6 in /Users/genevievemasioni/Library/Python/3.8/lib/python/site-packages (from tensorflow) (2.7.0)\n",
      "Requirement already satisfied: wrapt>=1.11.0 in /Users/genevievemasioni/Library/Python/3.8/lib/python/site-packages (from tensorflow) (1.13.3)\n",
      "Requirement already satisfied: wheel<1.0,>=0.32.0 in /Applications/Xcode.app/Contents/Developer/Library/Frameworks/Python3.framework/Versions/3.8/lib/python3.8/site-packages (from tensorflow) (0.33.1)\n",
      "Requirement already satisfied: opt-einsum>=2.3.2 in /Users/genevievemasioni/Library/Python/3.8/lib/python/site-packages (from tensorflow) (3.3.0)\n",
      "Requirement already satisfied: keras-preprocessing>=1.1.1 in /Users/genevievemasioni/Library/Python/3.8/lib/python/site-packages (from tensorflow) (1.1.2)\n",
      "Requirement already satisfied: absl-py>=0.4.0 in /Users/genevievemasioni/Library/Python/3.8/lib/python/site-packages (from tensorflow) (1.0.0)\n",
      "Requirement already satisfied: flatbuffers<3.0,>=1.12 in /Users/genevievemasioni/Library/Python/3.8/lib/python/site-packages (from tensorflow) (2.0)\n",
      "Requirement already satisfied: h5py>=2.9.0 in /Users/genevievemasioni/Library/Python/3.8/lib/python/site-packages (from tensorflow) (3.6.0)\n",
      "Requirement already satisfied: grpcio<2.0,>=1.24.3 in /Users/genevievemasioni/Library/Python/3.8/lib/python/site-packages (from tensorflow) (1.43.0)\n",
      "Requirement already satisfied: libclang>=9.0.1 in /Users/genevievemasioni/Library/Python/3.8/lib/python/site-packages (from tensorflow) (12.0.0)\n",
      "Requirement already satisfied: tensorflow-estimator<2.8,~=2.7.0rc0 in /Users/genevievemasioni/Library/Python/3.8/lib/python/site-packages (from tensorflow) (2.7.0)\n",
      "Requirement already satisfied: google-pasta>=0.1.1 in /Users/genevievemasioni/Library/Python/3.8/lib/python/site-packages (from tensorflow) (0.2.0)\n",
      "Requirement already satisfied: keras<2.8,>=2.7.0rc0 in /Users/genevievemasioni/Library/Python/3.8/lib/python/site-packages (from tensorflow) (2.7.0)\n",
      "Requirement already satisfied: gast<0.5.0,>=0.2.1 in /Users/genevievemasioni/Library/Python/3.8/lib/python/site-packages (from tensorflow) (0.4.0)\n",
      "Requirement already satisfied: tensorboard-data-server<0.7.0,>=0.6.0 in /Users/genevievemasioni/Library/Python/3.8/lib/python/site-packages (from tensorboard~=2.6->tensorflow) (0.6.1)\n",
      "Requirement already satisfied: requests<3,>=2.21.0 in /Users/genevievemasioni/Library/Python/3.8/lib/python/site-packages (from tensorboard~=2.6->tensorflow) (2.25.1)\n",
      "Requirement already satisfied: markdown>=2.6.8 in /Users/genevievemasioni/Library/Python/3.8/lib/python/site-packages (from tensorboard~=2.6->tensorflow) (3.3.6)\n",
      "Requirement already satisfied: google-auth<3,>=1.6.3 in /Users/genevievemasioni/Library/Python/3.8/lib/python/site-packages (from tensorboard~=2.6->tensorflow) (2.3.3)\n",
      "Requirement already satisfied: setuptools>=41.0.0 in /Applications/Xcode.app/Contents/Developer/Library/Frameworks/Python3.framework/Versions/3.8/lib/python3.8/site-packages (from tensorboard~=2.6->tensorflow) (41.2.0)\n",
      "Requirement already satisfied: google-auth-oauthlib<0.5,>=0.4.1 in /Users/genevievemasioni/Library/Python/3.8/lib/python/site-packages (from tensorboard~=2.6->tensorflow) (0.4.6)\n",
      "Requirement already satisfied: werkzeug>=0.11.15 in /Users/genevievemasioni/Library/Python/3.8/lib/python/site-packages (from tensorboard~=2.6->tensorflow) (2.0.2)\n",
      "Requirement already satisfied: tensorboard-plugin-wit>=1.6.0 in /Users/genevievemasioni/Library/Python/3.8/lib/python/site-packages (from tensorboard~=2.6->tensorflow) (1.8.0)\n",
      "Requirement already satisfied: cachetools<5.0,>=2.0.0 in /Users/genevievemasioni/Library/Python/3.8/lib/python/site-packages (from google-auth<3,>=1.6.3->tensorboard~=2.6->tensorflow) (4.2.4)\n",
      "Requirement already satisfied: pyasn1-modules>=0.2.1 in /Users/genevievemasioni/Library/Python/3.8/lib/python/site-packages (from google-auth<3,>=1.6.3->tensorboard~=2.6->tensorflow) (0.2.8)\n",
      "Requirement already satisfied: rsa<5,>=3.1.4 in /Users/genevievemasioni/Library/Python/3.8/lib/python/site-packages (from google-auth<3,>=1.6.3->tensorboard~=2.6->tensorflow) (4.8)\n",
      "Requirement already satisfied: requests-oauthlib>=0.7.0 in /Users/genevievemasioni/Library/Python/3.8/lib/python/site-packages (from google-auth-oauthlib<0.5,>=0.4.1->tensorboard~=2.6->tensorflow) (1.3.0)\n",
      "Requirement already satisfied: importlib-metadata>=4.4 in /Users/genevievemasioni/Library/Python/3.8/lib/python/site-packages (from markdown>=2.6.8->tensorboard~=2.6->tensorflow) (4.10.0)\n",
      "Requirement already satisfied: idna<3,>=2.5 in /Users/genevievemasioni/Library/Python/3.8/lib/python/site-packages (from requests<3,>=2.21.0->tensorboard~=2.6->tensorflow) (2.10)\n",
      "Requirement already satisfied: certifi>=2017.4.17 in /Users/genevievemasioni/Library/Python/3.8/lib/python/site-packages (from requests<3,>=2.21.0->tensorboard~=2.6->tensorflow) (2020.12.5)\n",
      "Requirement already satisfied: chardet<5,>=3.0.2 in /Users/genevievemasioni/Library/Python/3.8/lib/python/site-packages (from requests<3,>=2.21.0->tensorboard~=2.6->tensorflow) (4.0.0)\n",
      "Requirement already satisfied: urllib3<1.27,>=1.21.1 in /Users/genevievemasioni/Library/Python/3.8/lib/python/site-packages (from requests<3,>=2.21.0->tensorboard~=2.6->tensorflow) (1.26.3)\n",
      "Requirement already satisfied: zipp>=0.5 in /Users/genevievemasioni/Library/Python/3.8/lib/python/site-packages (from importlib-metadata>=4.4->markdown>=2.6.8->tensorboard~=2.6->tensorflow) (3.6.0)\n",
      "Requirement already satisfied: pyasn1<0.5.0,>=0.4.6 in /Users/genevievemasioni/Library/Python/3.8/lib/python/site-packages (from pyasn1-modules>=0.2.1->google-auth<3,>=1.6.3->tensorboard~=2.6->tensorflow) (0.4.8)\n",
      "Requirement already satisfied: oauthlib>=3.0.0 in /Users/genevievemasioni/Library/Python/3.8/lib/python/site-packages (from requests-oauthlib>=0.7.0->google-auth-oauthlib<0.5,>=0.4.1->tensorboard~=2.6->tensorflow) (3.1.1)\n",
      "Defaulting to user installation because normal site-packages is not writeable\n",
      "Requirement already satisfied: transformers in /Users/genevievemasioni/Library/Python/3.8/lib/python/site-packages (4.14.1)\n",
      "Requirement already satisfied: pyyaml>=5.1 in /Users/genevievemasioni/Library/Python/3.8/lib/python/site-packages (from transformers) (5.3.1)\n",
      "Requirement already satisfied: packaging>=20.0 in /Users/genevievemasioni/Library/Python/3.8/lib/python/site-packages (from transformers) (20.9)\n",
      "Requirement already satisfied: regex!=2019.12.17 in /Users/genevievemasioni/Library/Python/3.8/lib/python/site-packages (from transformers) (2021.11.10)\n",
      "Requirement already satisfied: tokenizers<0.11,>=0.10.1 in /Users/genevievemasioni/Library/Python/3.8/lib/python/site-packages (from transformers) (0.10.3)\n",
      "Requirement already satisfied: numpy>=1.17 in /Users/genevievemasioni/Library/Python/3.8/lib/python/site-packages (from transformers) (1.21.4)\n",
      "Requirement already satisfied: huggingface-hub<1.0,>=0.1.0 in /Users/genevievemasioni/Library/Python/3.8/lib/python/site-packages (from transformers) (0.2.1)\n",
      "Requirement already satisfied: requests in /Users/genevievemasioni/Library/Python/3.8/lib/python/site-packages (from transformers) (2.25.1)\n",
      "Requirement already satisfied: filelock in /Users/genevievemasioni/Library/Python/3.8/lib/python/site-packages (from transformers) (3.0.12)\n",
      "Requirement already satisfied: sacremoses in /Users/genevievemasioni/Library/Python/3.8/lib/python/site-packages (from transformers) (0.0.46)\n",
      "Requirement already satisfied: tqdm>=4.27 in /Users/genevievemasioni/Library/Python/3.8/lib/python/site-packages (from transformers) (4.62.3)\n"
     ]
    },
    {
     "name": "stdout",
     "output_type": "stream",
     "text": [
      "Requirement already satisfied: typing-extensions>=3.7.4.3 in /Users/genevievemasioni/Library/Python/3.8/lib/python/site-packages (from huggingface-hub<1.0,>=0.1.0->transformers) (4.0.1)\n",
      "Requirement already satisfied: pyparsing>=2.0.2 in /Users/genevievemasioni/Library/Python/3.8/lib/python/site-packages (from packaging>=20.0->transformers) (2.4.7)\n",
      "Requirement already satisfied: chardet<5,>=3.0.2 in /Users/genevievemasioni/Library/Python/3.8/lib/python/site-packages (from requests->transformers) (4.0.0)\n",
      "Requirement already satisfied: idna<3,>=2.5 in /Users/genevievemasioni/Library/Python/3.8/lib/python/site-packages (from requests->transformers) (2.10)\n",
      "Requirement already satisfied: urllib3<1.27,>=1.21.1 in /Users/genevievemasioni/Library/Python/3.8/lib/python/site-packages (from requests->transformers) (1.26.3)\n",
      "Requirement already satisfied: certifi>=2017.4.17 in /Users/genevievemasioni/Library/Python/3.8/lib/python/site-packages (from requests->transformers) (2020.12.5)\n",
      "Requirement already satisfied: six in /Applications/Xcode.app/Contents/Developer/Library/Frameworks/Python3.framework/Versions/3.8/lib/python3.8/site-packages (from sacremoses->transformers) (1.15.0)\n",
      "Requirement already satisfied: click in /Users/genevievemasioni/Library/Python/3.8/lib/python/site-packages (from sacremoses->transformers) (8.0.3)\n",
      "Requirement already satisfied: joblib in /Users/genevievemasioni/Library/Python/3.8/lib/python/site-packages (from sacremoses->transformers) (1.1.0)\n",
      "Defaulting to user installation because normal site-packages is not writeable\n",
      "Requirement already satisfied: google-api-python-client in /Users/genevievemasioni/Library/Python/3.8/lib/python/site-packages (2.33.0)\n",
      "Requirement already satisfied: google-api-core<3.0.0dev,>=1.21.0 in /Users/genevievemasioni/Library/Python/3.8/lib/python/site-packages (from google-api-python-client) (2.3.2)\n",
      "Requirement already satisfied: httplib2<1dev,>=0.15.0 in /Users/genevievemasioni/Library/Python/3.8/lib/python/site-packages (from google-api-python-client) (0.20.2)\n",
      "Requirement already satisfied: google-auth<3.0.0dev,>=1.16.0 in /Users/genevievemasioni/Library/Python/3.8/lib/python/site-packages (from google-api-python-client) (2.3.3)\n",
      "Requirement already satisfied: uritemplate<5,>=3.0.0 in /Users/genevievemasioni/Library/Python/3.8/lib/python/site-packages (from google-api-python-client) (4.1.1)\n",
      "Requirement already satisfied: google-auth-httplib2>=0.1.0 in /Users/genevievemasioni/Library/Python/3.8/lib/python/site-packages (from google-api-python-client) (0.1.0)\n",
      "Requirement already satisfied: requests<3.0.0dev,>=2.18.0 in /Users/genevievemasioni/Library/Python/3.8/lib/python/site-packages (from google-api-core<3.0.0dev,>=1.21.0->google-api-python-client) (2.25.1)\n",
      "Requirement already satisfied: protobuf>=3.12.0 in /Users/genevievemasioni/Library/Python/3.8/lib/python/site-packages (from google-api-core<3.0.0dev,>=1.21.0->google-api-python-client) (3.19.1)\n",
      "Requirement already satisfied: googleapis-common-protos<2.0dev,>=1.52.0 in /Users/genevievemasioni/Library/Python/3.8/lib/python/site-packages (from google-api-core<3.0.0dev,>=1.21.0->google-api-python-client) (1.54.0)\n",
      "Requirement already satisfied: setuptools>=40.3.0 in /Applications/Xcode.app/Contents/Developer/Library/Frameworks/Python3.framework/Versions/3.8/lib/python3.8/site-packages (from google-api-core<3.0.0dev,>=1.21.0->google-api-python-client) (41.2.0)\n",
      "Requirement already satisfied: cachetools<5.0,>=2.0.0 in /Users/genevievemasioni/Library/Python/3.8/lib/python/site-packages (from google-auth<3.0.0dev,>=1.16.0->google-api-python-client) (4.2.4)\n",
      "Requirement already satisfied: rsa<5,>=3.1.4 in /Users/genevievemasioni/Library/Python/3.8/lib/python/site-packages (from google-auth<3.0.0dev,>=1.16.0->google-api-python-client) (4.8)\n",
      "Requirement already satisfied: six>=1.9.0 in /Applications/Xcode.app/Contents/Developer/Library/Frameworks/Python3.framework/Versions/3.8/lib/python3.8/site-packages (from google-auth<3.0.0dev,>=1.16.0->google-api-python-client) (1.15.0)\n",
      "Requirement already satisfied: pyasn1-modules>=0.2.1 in /Users/genevievemasioni/Library/Python/3.8/lib/python/site-packages (from google-auth<3.0.0dev,>=1.16.0->google-api-python-client) (0.2.8)\n",
      "Requirement already satisfied: pyparsing!=3.0.0,!=3.0.1,!=3.0.2,!=3.0.3,<4,>=2.4.2 in /Users/genevievemasioni/Library/Python/3.8/lib/python/site-packages (from httplib2<1dev,>=0.15.0->google-api-python-client) (2.4.7)\n",
      "Requirement already satisfied: pyasn1<0.5.0,>=0.4.6 in /Users/genevievemasioni/Library/Python/3.8/lib/python/site-packages (from pyasn1-modules>=0.2.1->google-auth<3.0.0dev,>=1.16.0->google-api-python-client) (0.4.8)\n",
      "Requirement already satisfied: urllib3<1.27,>=1.21.1 in /Users/genevievemasioni/Library/Python/3.8/lib/python/site-packages (from requests<3.0.0dev,>=2.18.0->google-api-core<3.0.0dev,>=1.21.0->google-api-python-client) (1.26.3)\n",
      "Requirement already satisfied: certifi>=2017.4.17 in /Users/genevievemasioni/Library/Python/3.8/lib/python/site-packages (from requests<3.0.0dev,>=2.18.0->google-api-core<3.0.0dev,>=1.21.0->google-api-python-client) (2020.12.5)\n",
      "Requirement already satisfied: chardet<5,>=3.0.2 in /Users/genevievemasioni/Library/Python/3.8/lib/python/site-packages (from requests<3.0.0dev,>=2.18.0->google-api-core<3.0.0dev,>=1.21.0->google-api-python-client) (4.0.0)\n",
      "Requirement already satisfied: idna<3,>=2.5 in /Users/genevievemasioni/Library/Python/3.8/lib/python/site-packages (from requests<3.0.0dev,>=2.18.0->google-api-core<3.0.0dev,>=1.21.0->google-api-python-client) (2.10)\n"
     ]
    }
   ],
   "source": [
    "# Install required packages\n",
    "import sys\n",
    "!{sys.executable} -m pip install --upgrade pip\n",
    "#!{sys.executable} -m pip install torch\n",
    "!{sys.executable} -m pip install tensorflow\n",
    "!{sys.executable} -m pip install transformers\n",
    "!{sys.executable} -m pip install --upgrade google-api-python-client"
   ]
  },
  {
   "cell_type": "code",
   "execution_count": 36,
   "id": "minor-sending",
   "metadata": {},
   "outputs": [],
   "source": [
    "# utils import \n",
    "import pprint"
   ]
  },
  {
   "cell_type": "markdown",
   "id": "opening-sociology",
   "metadata": {},
   "source": [
    "# Abstract"
   ]
  },
  {
   "attachments": {},
   "cell_type": "markdown",
   "id": "eligible-wales",
   "metadata": {},
   "source": [
    "### /!\\ The full report can be found in the same folder as this notebook.  /!\\ \n",
    "\n",
    "### Background\n",
    "\n",
    "**Sentiment analysis (or opinion mining) is a natural language processing technique usually performed on textual data to determine whether a piece of data is positive, negative, or neutral**. Traditionally, it allows businesses to monitor sentiment in customer feedback and therefore tailor their products or services to match their customers’ needs. This technique is **here applied to YouTube comments to help online content creators monitor their audience’s opinion without reading all the comments under a video**. This is particularly useful for those whose content generates thousands to millions of reactions.\n",
    "\n",
    "###  Aims \n",
    "\n",
    "This project has multiple goals that work towards allowing the user to :\n",
    "1. Get an overview of the audience's opinion on a piece of content (**sentiment + emotion classification**), \n",
    "2. Roughly know what is discussed in the comment section (**topic classification**), \n",
    "3. Spot intense negative emotions and take actions (report or ban toxic viewers).\n",
    "\n",
    "The optimal situation is for the overview to provide insights on different objective aspects of the video : video, audio, content, length and editing quality.\n",
    "\n",
    "###  Method \n",
    "\n",
    "The key steps of this project are :\n",
    "1. **Data collection using the Youtube API**. Creation of JSON files to design a **NoSQL database using Elasticsearch**. Each comment is a document and one JSON file is created per video (a reference to the video is stored in the document).\n",
    "2. **Data preprocessing** : removal of irrelevant data (unreadable characters and links) and emoji processing to make them classifiable. \n",
    "3. **Data analysis** : sentiment, emotion and topic classification using Tensorflow.\n",
    "4. **Data summarisation in a Kibana dashboard**.\n",
    "\n",
    "### Results \n",
    "\n",
    "Dashboard sentiment, topics and emotions portrayed under a video’s comment section. \n",
    "\n",
    "### Tools  \n",
    "- NoSQL with Elasticsearch : for its tokenization feature that allows us to search through text.\n",
    "- Jupyter notebook : source code and synthetic explanation of our process.\n",
    "- Kibana : data visualisation (final dashboard).\n",
    "- Youtube API : data collection (video comments).\n",
    "\n",
    "### About this notebook\n",
    "This notebook applies our method on a TEDx Talks video *[When money isn’t real: the 10,000 experiment](https://www.youtube.com/watch?v=_VB39Jo8mAQ)* with **4 690 comments**."
   ]
  },
  {
   "cell_type": "markdown",
   "id": "intended-angle",
   "metadata": {},
   "source": [
    "# Data gathering"
   ]
  },
  {
   "cell_type": "code",
   "execution_count": 27,
   "id": "visible-hamilton",
   "metadata": {},
   "outputs": [
    {
     "name": "stdout",
     "output_type": "stream",
     "text": [
      "2666\n"
     ]
    }
   ],
   "source": [
    "import os\n",
    "import googleapiclient.discovery\n",
    "import json\n",
    "\n",
    "DEVELOPER_KEY = \"YOUR_API_KEY\"\n",
    "with open('credentials/credentials.txt') as f:\n",
    "    DEVELOPER_KEY = f.readlines()\n",
    "    \n",
    "def getDataFromYouTubeAPI(video_id):\n",
    "    # Disable OAuthlib's HTTPS verification when running locally.\n",
    "    # *DO NOT* leave this option enabled in production.\n",
    "    os.environ[\"OAUTHLIB_INSECURE_TRANSPORT\"] = \"1\"\n",
    "\n",
    "    api_service_name = \"youtube\"\n",
    "    api_version = \"v3\"\n",
    "\n",
    "    youtube = googleapiclient.discovery.build(\n",
    "        api_service_name, api_version, developerKey = DEVELOPER_KEY)\n",
    "\n",
    "    request = youtube.commentThreads().list(\n",
    "        part=\"snippet,replies\",\n",
    "        maxResults=100,\n",
    "        textFormat=\"plainText\",\n",
    "        videoId=video_id\n",
    "    )\n",
    "    response = request.execute()\n",
    "    comments = response[\"items\"]\n",
    "    \n",
    "    if(\"nextPageToken\" in response):\n",
    "        next_page_token = response[\"nextPageToken\"]\n",
    "        while(next_page_token):\n",
    "            request = youtube.commentThreads().list(\n",
    "                part=\"snippet,replies\",\n",
    "                maxResults=100,\n",
    "                textFormat=\"plainText\",\n",
    "                videoId=video_id,\n",
    "                pageToken=next_page_token\n",
    "            )\n",
    "            response = request.execute()\n",
    "            comments = comments + response[\"items\"]\n",
    "            if(\"nextPageToken\" in response):\n",
    "                next_page_token = response[\"nextPageToken\"]\n",
    "            else:\n",
    "                next_page_token = None\n",
    "    return comments\n",
    "    \n",
    "comments = getDataFromYouTubeAPI(\"_VB39Jo8mAQ\")\n",
    "print(\"Number of comments : \", len(comments))\n",
    "print(\"Sneak peek : \")\n",
    "pprint.pprint(comments[0])"
   ]
  },
  {
   "cell_type": "code",
   "execution_count": 40,
   "id": "paperback-fisher",
   "metadata": {},
   "outputs": [
    {
     "name": "stdout",
     "output_type": "stream",
     "text": [
      "Number of comments :  2666\n",
      "Sneak peek : \n",
      "{'etag': 'VYCu_WJjXxGgqAuGYvyP-1zTjOo',\n",
      " 'id': 'UgxK5RGyzy_FAG4R_1d4AaABAg',\n",
      " 'kind': 'youtube#commentThread',\n",
      " 'snippet': {'canReply': True,\n",
      "             'isPublic': True,\n",
      "             'topLevelComment': {'etag': 'ze2S-AAQlPiB2p3bdV5qM7YNTm4',\n",
      "                                 'id': 'UgxK5RGyzy_FAG4R_1d4AaABAg',\n",
      "                                 'kind': 'youtube#comment',\n",
      "                                 'snippet': {'authorChannelId': {'value': 'UCzY2ONyq7_ge_doVLjOdBJg'},\n",
      "                                             'authorChannelUrl': 'http://www.youtube.com/channel/UCzY2ONyq7_ge_doVLjOdBJg',\n",
      "                                             'authorDisplayName': 'Pete '\n",
      "                                                                  'Romocki',\n",
      "                                             'authorProfileImageUrl': 'https://yt3.ggpht.com/ytc/AKedOLTY4QYWXCxqmfXtPsy7rq3ofDicZUPTf3E9nbcv8A=s48-c-k-c0x00ffffff-no-rj',\n",
      "                                             'canRate': True,\n",
      "                                             'likeCount': 0,\n",
      "                                             'publishedAt': '2021-12-21T13:55:43Z',\n",
      "                                             'textDisplay': 'In the old days '\n",
      "                                                            'we got our money '\n",
      "                                                            'from '\n",
      "                                                            'working.....paper '\n",
      "                                                            'routes.',\n",
      "                                             'textOriginal': 'In the old days '\n",
      "                                                             'we got our money '\n",
      "                                                             'from '\n",
      "                                                             'working.....paper '\n",
      "                                                             'routes.',\n",
      "                                             'updatedAt': '2021-12-21T13:55:43Z',\n",
      "                                             'videoId': '_VB39Jo8mAQ',\n",
      "                                             'viewerRating': 'none'}},\n",
      "             'totalReplyCount': 0,\n",
      "             'videoId': '_VB39Jo8mAQ'}}\n"
     ]
    }
   ],
   "source": [
    "print(\"Number of comments : \", len(comments))\n",
    "print(\"Sneak peek : \")\n",
    "pprint.pprint(comments[0])"
   ]
  },
  {
   "cell_type": "code",
   "execution_count": 12,
   "id": "7b4469c0-a55e-4af9-a7f3-4a9e7fb98ea6",
   "metadata": {},
   "outputs": [
    {
     "name": "stderr",
     "output_type": "stream",
     "text": [
      "No model was supplied, defaulted to distilbert-base-uncased-finetuned-sst-2-english (https://huggingface.co/distilbert-base-uncased-finetuned-sst-2-english)\n"
     ]
    },
    {
     "name": "stdout",
     "output_type": "stream",
     "text": [
      "Label: NEGATIVE\n",
      "Confidence Score: 0.8237260580062866\n",
      "\n",
      "{'label': 'POSITIVE', 'score': 0.9980717897415161}\n",
      "Label: POSITIVE\n",
      "Confidence Score: 0.9980717897415161\n",
      "\n",
      "Label: NEGATIVE\n",
      "Confidence Score: 0.9881595373153687\n",
      "[[{'label': 'sadness', 'score': 0.000679271062836051}, {'label': 'joy', 'score': 0.9959298968315125}, {'label': 'love', 'score': 0.0009452462545596063}, {'label': 'anger', 'score': 0.001805522944778204}, {'label': 'fear', 'score': 0.0004111044108867645}, {'label': 'surprise', 'score': 0.00022885717044118792}]]\n"
     ]
    }
   ],
   "source": [
    "import tensorflow\n",
    "from transformers import pipeline\n",
    "\n",
    "sentiment_analysis = pipeline(\"sentiment-analysis\")\n",
    "\n",
    "pos_text = \"I enjoy studying computational algorithms.\"\n",
    "neg_text = \"I dislike sleeping late everyday.\"\n",
    "neutral_text = \"The apple is red.\"\n",
    "\n",
    "result = sentiment_analysis(neutral_text)[0]\n",
    "print(\"Label:\", result['label'])\n",
    "print(\"Confidence Score:\", result['score'])\n",
    "print()\n",
    "\n",
    "result = sentiment_analysis(pos_text)[0]\n",
    "print(result)\n",
    "print(\"Label:\", result['label'])\n",
    "print(\"Confidence Score:\", result['score'])\n",
    "print()\n",
    "\n",
    "result = sentiment_analysis(neg_text)[0]\n",
    "print(\"Label:\", result['label'])\n",
    "print(\"Confidence Score:\", result['score'])\n",
    "\n",
    "classifier = pipeline(\"text-classification\",model='bhadresh-savani/distilbert-base-uncased-emotion', return_all_scores=True)\n",
    "prediction = classifier(\"I love using transformers. The best part is wide range of support and its easy to use\", )\n",
    "print(prediction)"
   ]
  },
  {
   "cell_type": "code",
   "execution_count": 14,
   "id": "ca235e27-9ddb-4e8b-8093-1570dc3d9c4a",
   "metadata": {},
   "outputs": [
    {
     "data": {
      "text/plain": [
       "[{'label': 'others', 'score': 0.9879725575447083}]"
      ]
     },
     "execution_count": 14,
     "metadata": {},
     "output_type": "execute_result"
    }
   ],
   "source": [
    "import tensorflow\n",
    "from transformers import pipeline, AutoTokenizer, AutoModelForSequenceClassification\n",
    "\n",
    "tokenizer = AutoTokenizer.from_pretrained(\"lordtt13/emo-mobilebert\")\n",
    "\n",
    "model = AutoModelForSequenceClassification.from_pretrained(\"lordtt13/emo-mobilebert\")\n",
    "\n",
    "nlp_sentence_classif = pipeline(\"sentiment-analysis\", model = model, tokenizer = tokenizer)\n",
    "nlp_sentence_classif(\"the apple is red\")\n",
    "# Output: [{'label': 'sad', 'score': 0.93153977394104}]\n"
   ]
  },
  {
   "cell_type": "code",
   "execution_count": null,
   "id": "fatal-january",
   "metadata": {},
   "outputs": [],
   "source": []
  }
 ],
 "metadata": {
  "kernelspec": {
   "display_name": "Python 3",
   "language": "python",
   "name": "python3"
  },
  "language_info": {
   "codemirror_mode": {
    "name": "ipython",
    "version": 3
   },
   "file_extension": ".py",
   "mimetype": "text/x-python",
   "name": "python",
   "nbconvert_exporter": "python",
   "pygments_lexer": "ipython3",
   "version": "3.8.2"
  }
 },
 "nbformat": 4,
 "nbformat_minor": 5
}
